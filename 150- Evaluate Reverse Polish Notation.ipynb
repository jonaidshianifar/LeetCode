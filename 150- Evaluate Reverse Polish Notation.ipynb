{
 "cells": [
  {
   "cell_type": "markdown",
   "metadata": {
    "slideshow": {
     "slide_type": "slide"
    }
   },
   "source": [
    "# 150 - Evaluate Reverse Polish Notation\n",
    "\n",
    "[![](https://img.shields.io/badge/-Medium-ed8e00?&style=flat)]()\n",
    "\n",
    "\n",
    "You are given an array of strings tokens that represents an arithmetic expression in a Reverse Polish Notation.\n",
    "\n",
    "Evaluate the expression. Return an integer that represents the value of the expression.\n",
    "\n",
    "Note that:\n",
    "\n",
    "    The valid operators are '+', '-', '*', and '/'.\n",
    "    Each operand may be an integer or another expression.\n",
    "    The division between two integers always truncates toward zero.\n",
    "    There will not be any division by zero.\n",
    "    The input represents a valid arithmetic expression in a reverse polish notation.\n",
    "    The answer and all the intermediate calculations can be represented in a 32-bit integer.\n",
    "\n",
    "\n",
    "[![](https://img.shields.io/badge/-LeetCode-d16200?logo=leetcode&logoColor=white&style=flat)](https://leetcode.com/problems/evaluate-reverse-polish-notation/description/)\n",
    "\n",
    "\n",
    "\n"
   ]
  },
  {
   "cell_type": "code",
   "execution_count": 8,
   "metadata": {
    "slideshow": {
     "slide_type": "slide"
    }
   },
   "outputs": [],
   "source": [
    "def evalRPN(tokens):\n",
    "    stack = []\n",
    "    \n",
    "    for i in tokens:\n",
    "        if i=='+':\n",
    "            res=stack[-2] + stack[-1]\n",
    "            stack.pop()\n",
    "            stack.pop()\n",
    "            stack.append(int(res))\n",
    "        elif i=='-':\n",
    "            res=stack[-2] - stack[-1]\n",
    "            stack.pop()\n",
    "            stack.pop()\n",
    "            stack.append(int(res))\n",
    "            \n",
    "        elif i=='*':\n",
    "            res=stack[-2] * stack[-1]\n",
    "            stack.pop()\n",
    "            stack.pop()\n",
    "            stack.append(int(res))\n",
    "            \n",
    "        elif i=='/':\n",
    "            res=stack[-2] / stack[-1]\n",
    "            stack.pop()\n",
    "            stack.pop()\n",
    "            stack.append(int(res))\n",
    "        else:\n",
    "            stack.append(int(i))\n",
    "\n",
    "    \n",
    "    return stack[0]"
   ]
  },
  {
   "cell_type": "markdown",
   "metadata": {
    "slideshow": {
     "slide_type": "slide"
    }
   },
   "source": [
    "## Test Case"
   ]
  },
  {
   "cell_type": "code",
   "execution_count": 10,
   "metadata": {},
   "outputs": [
    {
     "data": {
      "text/plain": [
       "9"
      ]
     },
     "execution_count": 10,
     "metadata": {},
     "output_type": "execute_result"
    }
   ],
   "source": [
    "#Test Case 1\n",
    "tokens = [\"2\",\"1\",\"+\",\"3\",\"*\"]\n",
    "evalRPN(tokens)"
   ]
  },
  {
   "cell_type": "code",
   "execution_count": 11,
   "metadata": {},
   "outputs": [
    {
     "data": {
      "text/plain": [
       "6"
      ]
     },
     "execution_count": 11,
     "metadata": {},
     "output_type": "execute_result"
    }
   ],
   "source": [
    "#Test Case 2\n",
    "tokens = [\"4\",\"13\",\"5\",\"/\",\"+\"]\n",
    "evalRPN(tokens)"
   ]
  },
  {
   "cell_type": "code",
   "execution_count": 12,
   "metadata": {},
   "outputs": [
    {
     "data": {
      "text/plain": [
       "22"
      ]
     },
     "execution_count": 12,
     "metadata": {},
     "output_type": "execute_result"
    }
   ],
   "source": [
    "#Test Case 3\n",
    "tokens = [\"10\",\"6\",\"9\",\"3\",\"+\",\"-11\",\"*\",\"/\",\"*\",\"17\",\"+\",\"5\",\"+\"]\n",
    "evalRPN(tokens)"
   ]
  }
 ],
 "metadata": {
  "celltoolbar": "Slideshow",
  "kernelspec": {
   "display_name": "Python 3",
   "language": "python",
   "name": "python3"
  },
  "language_info": {
   "codemirror_mode": {
    "name": "ipython",
    "version": 3
   },
   "file_extension": ".py",
   "mimetype": "text/x-python",
   "name": "python",
   "nbconvert_exporter": "python",
   "pygments_lexer": "ipython3",
   "version": "3.8.10"
  }
 },
 "nbformat": 4,
 "nbformat_minor": 2
}
